{
 "cells": [
  {
   "cell_type": "code",
   "execution_count": 5,
   "metadata": {
    "collapsed": false
   },
   "outputs": [],
   "source": [
    "#import libraries\n",
    "import matplotlib.pyplot as plt # import of matplotlib\n",
    "import numpy as np # import of numpy\n",
    "from numpy import linalg as LA\n",
    "%matplotlib inline\n",
    "\n",
    "from PyQuante.Molecule import Molecule\n",
    "from PyQuante.Ints import *"
   ]
  },
  {
   "cell_type": "code",
   "execution_count": 4,
   "metadata": {
    "collapsed": false
   },
   "outputs": [],
   "source": [
    "#Molekül H2\n",
    "\n",
    "mol1 = Molecule('H2',[(1,(0,0,0)),(1,(1.4,0,0))])\n",
    "bfs = getbasis(mol1.atoms,'sto-3g')\n",
    "\n",
    "Sone,hone = get1ints(bfs,mol1.atoms)\n",
    "tone = getT(bfs)\n",
    "vone = getV(bfs,mol1.atoms)\t\n",
    "Inttwo = get2ints(bfs)     #das ist unser g (Lüchow-Notation) \n",
    "Hcore = tone + vone\n"
   ]
  },
  {
   "cell_type": "code",
   "execution_count": 6,
   "metadata": {
    "collapsed": false
   },
   "outputs": [
    {
     "name": "stdout",
     "output_type": "stream",
     "text": [
      "[[ 1.          0.65931821]\n",
      " [ 0.65931821  1.        ]]\n",
      "[[-1.12040901 -0.95837996]\n",
      " [-0.95837996 -1.12040901]]\n",
      "array('d', [0.7746059413378763, 0.44410765642363825, 0.29702853968824644, 0.5696759199791712, 0.44410765642363825, 0.7746059413378763])\n",
      "[ 1.65931821  0.34068179]\n"
     ]
    }
   ],
   "source": [
    "print Sone\n",
    "print Hcore\n",
    "print Inttwo\n",
    "\t\n",
    "sone = LA.eigvals(Sone)\n",
    "print sone\n"
   ]
  },
  {
   "cell_type": "code",
   "execution_count": 16,
   "metadata": {
    "collapsed": false
   },
   "outputs": [],
   "source": [
    "U = np.array([[2.**(0.5), 2.**(0.5)], [2.**(0.5), 2.**(-0.5)]])"
   ]
  },
  {
   "cell_type": "code",
   "execution_count": 17,
   "metadata": {
    "collapsed": false
   },
   "outputs": [
    {
     "name": "stdout",
     "output_type": "stream",
     "text": [
      "[[ 1.41421356  1.41421356]\n",
      " [ 1.41421356  0.70710678]]\n"
     ]
    }
   ],
   "source": [
    "print U"
   ]
  },
  {
   "cell_type": "code",
   "execution_count": null,
   "metadata": {
    "collapsed": true
   },
   "outputs": [],
   "source": []
  }
 ],
 "metadata": {
  "anaconda-cloud": {},
  "kernelspec": {
   "display_name": "Python 2",
   "language": "python",
   "name": "python2"
  },
  "language_info": {
   "codemirror_mode": {
    "name": "ipython",
    "version": 2
   },
   "file_extension": ".py",
   "mimetype": "text/x-python",
   "name": "python",
   "nbconvert_exporter": "python",
   "pygments_lexer": "ipython2",
   "version": "2.7.12"
  }
 },
 "nbformat": 4,
 "nbformat_minor": 1
}
