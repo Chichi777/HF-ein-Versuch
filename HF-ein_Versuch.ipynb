{
 "cells": [
  {
   "cell_type": "code",
   "execution_count": 6,
   "metadata": {
    "collapsed": false
   },
   "outputs": [],
   "source": [
    "#import libraries\n",
    "import matplotlib.pyplot as plt # import of matplotlib\n",
    "import numpy as np # import of numpy\n",
    "%matplotlib inline\n",
    "\n",
    "from PyQuante.Molecule import Molecule\n",
    "from PyQuante.Ints import *"
   ]
  },
  {
   "cell_type": "code",
   "execution_count": 9,
   "metadata": {
    "collapsed": false
   },
   "outputs": [],
   "source": [
    "#Molekül H2\n",
    "\n",
    "mol1 = Molecule('H2',[(1,(0,0,0)),(1,(1.4,0,0))])\n",
    "bfs = getbasis(mol1.atoms,'sto-3g')\n",
    "\n",
    "Sone,hone = get1ints(bfs,mol1.atoms)\n",
    "tone = getT(bfs)\n",
    "vone = getV(bfs,mol1.atoms)\t\n",
    "Hcore = tone + vone\n"
   ]
  },
  {
   "cell_type": "code",
   "execution_count": null,
   "metadata": {
    "collapsed": true
   },
   "outputs": [],
   "source": []
  }
 ],
 "metadata": {
  "anaconda-cloud": {},
  "kernelspec": {
   "display_name": "Python 2",
   "language": "python",
   "name": "python2"
  },
  "language_info": {
   "codemirror_mode": {
    "name": "ipython",
    "version": 2
   },
   "file_extension": ".py",
   "mimetype": "text/x-python",
   "name": "python",
   "nbconvert_exporter": "python",
   "pygments_lexer": "ipython2",
   "version": "2.7.12"
  }
 },
 "nbformat": 4,
 "nbformat_minor": 1
}
