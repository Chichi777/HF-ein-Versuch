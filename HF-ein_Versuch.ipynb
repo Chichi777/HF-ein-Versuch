{
 "cells": [
  {
   "cell_type": "code",
   "execution_count": 59,
   "metadata": {
    "collapsed": false
   },
   "outputs": [],
   "source": [
    "#import libraries\n",
    "import matplotlib.pyplot as plt # import of matplotlib\n",
    "import numpy as np # import of numpy\n",
    "from numpy import linalg as LA\n",
    "%matplotlib inline\n",
    "\n",
    "from PyQuante.Molecule import Molecule\n",
    "from PyQuante.Ints import *"
   ]
  },
  {
   "cell_type": "code",
   "execution_count": 60,
   "metadata": {
    "collapsed": false
   },
   "outputs": [
    {
     "name": "stdout",
     "output_type": "stream",
     "text": [
      "Atom ID: 0 Atomic Num:  1 ( 0.000, 0.000, 0.000)\n",
      "<PyQuante.Basis.basis.BasisSet object at 0x7fcb11ac2910>\n",
      "array('d', [0.7746059413378763, 0.44410765642363825, 0.29702853968824644, 0.5696759199791712, 0.44410765642363825, 0.7746059413378763])\n"
     ]
    },
    {
     "data": {
      "text/plain": [
       "0.7746059413378763"
      ]
     },
     "execution_count": 60,
     "metadata": {},
     "output_type": "execute_result"
    }
   ],
   "source": [
    "#Molekül H2\n",
    "\n",
    "mol1 = Molecule('H2',[(1,(0,0,0)),(1,(1.4,0,0))])\n",
    "bfs = getbasis(mol1.atoms,'sto-3g')\n",
    "\n",
    "S,h = get1ints(bfs,mol1.atoms)\n",
    "t = getT(bfs)\n",
    "v = getV(bfs,mol1.atoms)\t\n",
    "Inttwo = get2ints(bfs)  #das ist unser g (Lüchow-Notation) \n",
    "Hcore = t + v  #initial guess: F = Hcore\n",
    "\n",
    "Elec = 2 #nachgucken wie man allgemein an Anzahl der Elektronen kommt\n",
    "occs = Elec/2\n",
    "\n",
    "print mol1[0]\n",
    "\n",
    "print bfs #WTF????????????\n",
    "\n",
    "print Inttwo\n",
    "\n",
    "\n",
    "#[0.7746059413378763, 0.44410765642363825, 0.29702853968824644, 0.5696759199791712, 0.44410765642363825, 0.7746059413378763]\n",
    "# 0000                      1000                   1010                  0011              1110                1111\n",
    "\n",
    "Inttwo[0]\n"
   ]
  },
  {
   "cell_type": "code",
   "execution_count": 61,
   "metadata": {
    "collapsed": false
   },
   "outputs": [
    {
     "name": "stdout",
     "output_type": "stream",
     "text": [
      "[[ 1.          0.65931821]\n",
      " [ 0.65931821  1.        ]]\n",
      "[[-1.12040901 -0.95837996]\n",
      " [-0.95837996 -1.12040901]]\n",
      "array('d', [0.7746059413378763, 0.44410765642363825, 0.29702853968824644, 0.5696759199791712, 0.44410765642363825, 0.7746059413378763])\n",
      "[ 1.65931821  0.34068179]\n"
     ]
    }
   ],
   "source": [
    "print S\n",
    "print Hcore\n",
    "print Inttwo\n",
    "\t\n",
    "s = LA.eigvals(S)\n",
    "print s\n"
   ]
  },
  {
   "cell_type": "code",
   "execution_count": 62,
   "metadata": {
    "collapsed": false
   },
   "outputs": [
    {
     "name": "stdout",
     "output_type": "stream",
     "text": [
      "[[ 0.70710678  0.70710678]\n",
      " [ 0.70710678 -0.70710678]]\n",
      "[ 1.65931821  0.34068179]\n",
      "[[ 0.77630996  0.        ]\n",
      " [ 0.          1.71326892]]\n",
      "[[ 0.54893404  1.21146407]\n",
      " [ 0.54893404 -1.21146407]]\n",
      "[[ 0.54893404  0.54893404]\n",
      " [ 1.21146407 -1.21146407]]\n",
      "[[  9.63911069e-02   2.77555756e-17]\n",
      " [ -3.33066907e-16   1.81613779e+00]]\n",
      "[[  1.00000000e+00   1.61393396e-17]\n",
      " [  0.00000000e+00   1.00000000e+00]]\n",
      "[[ 0.54893404  1.21146407]\n",
      " [ 0.54893404 -1.21146407]]\n"
     ]
    }
   ],
   "source": [
    "U = np.array([[2.**(-0.5), 2.**(-0.5)], [2.**(-0.5), -2.**(-0.5)]])\n",
    "print U\n",
    "\n",
    "print s\n",
    "s_diag = np.array([[s[0]**(-0.5), 0], [0, s[1]**(-0.5)]])\n",
    "print s_diag\n",
    "\n",
    "X = np.dot(U,s_diag)\n",
    "Xs = X.T\n",
    "print X\n",
    "print Xs\n",
    "\n",
    "F_trans = np.dot(Xs,F) #orthogonalisierung\n",
    "F_trans = np.dot(F_trans,X)\n",
    "print F_trans\n",
    "\n",
    "F = LA.eig(F_trans)[1] #[0] = Eigenwerte, [1] = Eigenvektoren\n",
    "print F\n",
    "\n",
    "C_trans = np.dot(X,F)\n",
    "print C_trans"
   ]
  },
  {
   "cell_type": "code",
   "execution_count": 63,
   "metadata": {
    "collapsed": false
   },
   "outputs": [
    {
     "name": "stdout",
     "output_type": "stream",
     "text": [
      "[[ 0.60265716  0.60265716]\n",
      " [ 0.60265716  0.60265716]]\n"
     ]
    }
   ],
   "source": [
    "#D-Matrix aufstellen\n",
    "\n",
    "#bfs = 1\n",
    "#occs = 1\n",
    "\n",
    "D = np.array([[0.0, 0.0], [0.0, 0.0]])\n",
    "\n",
    "G = np.array([[0.0, 0.0], [0.0, 0.0]])\n",
    "\n",
    "for mu in range(0, 2): #bfs, ausgeschlossene Grenzen, daher bis 2\n",
    "    for nu in range(0, 2): #bfs\n",
    "             D[mu, nu] += 2*C_trans[mu, 0]*C_trans[nu, 0]\n",
    "\n",
    "print D"
   ]
  },
  {
   "cell_type": "code",
   "execution_count": 64,
   "metadata": {
    "collapsed": false
   },
   "outputs": [
    {
     "name": "stdout",
     "output_type": "stream",
     "text": [
      "[[-0.36553735 -0.59388537]\n",
      " [-0.59388537 -0.36553735]]\n",
      "\n",
      "-1.11671431622\n"
     ]
    }
   ],
   "source": [
    "#F-Matrix aufstellen\n",
    "\n",
    "\n",
    "for mu in range(0, 2):      #if schleife in for-schleife?\n",
    "    for nu in range(0, 2):\n",
    "        for lam in range(0, 2):\n",
    "            for sig in range(0, 2):\n",
    "                if mu == 0 and nu == 0 and lam == 0 and sig == 0:\n",
    "                    A = Inttwo[0]\n",
    "                    B = Inttwo[0]\n",
    "                if mu == 0 and nu == 1 and lam == 0 and sig == 0:\n",
    "                    A = Inttwo[1]\n",
    "                    B = Inttwo[1]\n",
    "                if mu == 0 and nu == 0 and lam == 1 and sig == 0:\n",
    "                    A = Inttwo[1]\n",
    "                    B = Inttwo[1]\n",
    "                if mu == 0 and nu == 0 and lam == 0 and sig == 1:\n",
    "                    A = Inttwo[1]\n",
    "                    B = Inttwo[1]\n",
    "                if mu == 0 and nu == 1 and lam == 1 and sig == 0:\n",
    "                    A = Inttwo[2]\n",
    "                    B = Inttwo[2]\n",
    "                if mu == 0 and nu == 1 and lam == 0 and sig == 1:\n",
    "                    A = Inttwo[2]\n",
    "                    B = Inttwo[3]\n",
    "                if mu == 0 and nu == 1 and lam == 1 and sig == 1:\n",
    "                    A = Inttwo[1]\n",
    "                    B = Inttwo[1]\n",
    "                if mu == 1 and nu == 1 and lam == 1 and sig == 1:\n",
    "                    A = Inttwo[0]\n",
    "                    B = Inttwo[0]\n",
    "                if mu == 0 and nu == 0 and lam == 1 and sig == 1:\n",
    "                    A = Inttwo[3]\n",
    "                    B = Inttwo[2]\n",
    "                if mu == 1 and nu == 0 and lam == 1 and sig == 0:\n",
    "                    A = Inttwo[2]\n",
    "                    B = Inttwo[3]\n",
    "                if mu == 1 and nu == 1 and lam == 0 and sig == 1:\n",
    "                    A = Inttwo[1]\n",
    "                    B = Inttwo[1]\n",
    "                if mu == 1 and nu == 1 and lam == 1 and sig == 0:\n",
    "                    A = Inttwo[1]\n",
    "                    B = Inttwo[1]\n",
    "                if mu == 1 and nu == 0 and lam == 1 and sig == 1:\n",
    "                    A = Inttwo[1]\n",
    "                    B = Inttwo[1]\n",
    "                if mu == 1 and nu == 1 and lam == 0 and sig == 0:\n",
    "                    A = Inttwo[3]\n",
    "                    B = Inttwo[2]\n",
    "                if mu == 1 and nu == 0 and lam == 0 and sig == 0:\n",
    "                    A = Inttwo[1]\n",
    "                    B = Inttwo[1]\n",
    "                if mu == 1 and nu == 0 and lam == 0 and sig == 1:\n",
    "                    A = Inttwo[2]\n",
    "                    B = Inttwo[2]\n",
    "                    \n",
    "                G[mu, nu] += D[lam, sig]*(A-0.5*B)\n",
    "                \n",
    "                F = Hcore + G\n",
    "                    \n",
    "print F\n",
    "\n",
    "E = 0\n",
    "\n",
    "for mu in range(0, 2):\n",
    "    for nu in range(0, 2):\n",
    "        E += 0.5*D[mu, nu]*(F[mu, nu]+Hcore[mu, nu])\n",
    "\n",
    "        \n",
    "print\n",
    "print E + (1/1.4)\n"
   ]
  },
  {
   "cell_type": "code",
   "execution_count": null,
   "metadata": {
    "collapsed": true
   },
   "outputs": [],
   "source": [
    "# SCF Iteration"
   ]
  }
 ],
 "metadata": {
  "anaconda-cloud": {},
  "kernelspec": {
   "display_name": "Python 2",
   "language": "python",
   "name": "python2"
  },
  "language_info": {
   "codemirror_mode": {
    "name": "ipython",
    "version": 2
   },
   "file_extension": ".py",
   "mimetype": "text/x-python",
   "name": "python",
   "nbconvert_exporter": "python",
   "pygments_lexer": "ipython2",
   "version": "2.7.12"
  }
 },
 "nbformat": 4,
 "nbformat_minor": 1
}
