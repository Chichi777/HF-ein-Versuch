{
 "cells": [
  {
   "cell_type": "code",
   "execution_count": 97,
   "metadata": {
    "collapsed": false
   },
   "outputs": [],
   "source": [
    "#import libraries\n",
    "import matplotlib.pyplot as plt # import of matplotlib\n",
    "import numpy as np # import of numpy\n",
    "from numpy import linalg as LA\n",
    "%matplotlib inline\n",
    "\n",
    "from PyQuante.Molecule import Molecule\n",
    "from PyQuante.Ints import *"
   ]
  },
  {
   "cell_type": "code",
   "execution_count": 107,
   "metadata": {
    "collapsed": false
   },
   "outputs": [
    {
     "name": "stdout",
     "output_type": "stream",
     "text": [
      "Atom ID: 0 Atomic Num:  1 ( 0.000, 0.000, 0.000)\n",
      "<PyQuante.Basis.basis.BasisSet object at 0x7f1fc5fdec10>\n",
      "array('d', [0.7746059413378763, 0.44410765642363825, 0.29702853968824644, 0.5696759199791712, 0.44410765642363825, 0.7746059413378763])\n"
     ]
    },
    {
     "data": {
      "text/plain": [
       "0.7746059413378763"
      ]
     },
     "execution_count": 107,
     "metadata": {},
     "output_type": "execute_result"
    }
   ],
   "source": [
    "#Molekül H2\n",
    "\n",
    "mol1 = Molecule('H2',[(1,(0,0,0)),(1,(1.4,0,0))])\n",
    "bfs = getbasis(mol1.atoms,'sto-3g')\n",
    "\n",
    "S,h = get1ints(bfs,mol1.atoms)\n",
    "t = getT(bfs)\n",
    "v = getV(bfs,mol1.atoms)\t\n",
    "Inttwo = get2ints(bfs)  #das ist unser g (Lüchow-Notation) \n",
    "Hcore = t + v  #initial guess: F = Hcore\n",
    "\n",
    "Elec = 2 #nachgucken wie man allgemein an Anzahl der Elektronen kommt\n",
    "occs = Elec/2\n",
    "\n",
    "print mol1[0]\n",
    "\n",
    "print bfs #WTF????????????\n",
    "\n",
    "print Inttwo\n",
    "\n",
    "\n",
    "#[0.7746059413378763, 0.44410765642363825, 0.29702853968824644, 0.5696759199791712, 0.44410765642363825, 0.7746059413378763]\n",
    "# 0000                      1000                   1010                  0011              1110                1111\n",
    "\n",
    "Inttwo[0]\n"
   ]
  },
  {
   "cell_type": "code",
   "execution_count": 99,
   "metadata": {
    "collapsed": false
   },
   "outputs": [
    {
     "name": "stdout",
     "output_type": "stream",
     "text": [
      "[[ 1.          0.65931821]\n",
      " [ 0.65931821  1.        ]]\n",
      "[[-1.12040901 -0.95837996]\n",
      " [-0.95837996 -1.12040901]]\n",
      "array('d', [0.7746059413378763, 0.44410765642363825, 0.29702853968824644, 0.5696759199791712, 0.44410765642363825, 0.7746059413378763])\n",
      "[ 1.65931821  0.34068179]\n"
     ]
    }
   ],
   "source": [
    "print S\n",
    "print Hcore\n",
    "print Inttwo\n",
    "\t\n",
    "s = LA.eigvals(S)\n",
    "print s\n"
   ]
  },
  {
   "cell_type": "code",
   "execution_count": 100,
   "metadata": {
    "collapsed": false
   },
   "outputs": [
    {
     "name": "stdout",
     "output_type": "stream",
     "text": [
      "[[ 0.70710678  0.70710678]\n",
      " [ 0.70710678 -0.70710678]]\n",
      "[ 1.65931821  0.34068179]\n",
      "[[ 1.65931821  0.        ]\n",
      " [ 0.          0.34068179]]\n",
      "[[ 1.17331516  0.        ]\n",
      " [ 0.         -0.24089841]]\n",
      "[[-1.54243174 -0.        ]\n",
      " [-0.         -0.06501962]]\n",
      "[[ 1.  0.]\n",
      " [ 0.  1.]]\n",
      "[[ 1.17331516  0.        ]\n",
      " [ 0.         -0.24089841]]\n"
     ]
    }
   ],
   "source": [
    "U = np.array([[2.**(-0.5), 2.**(-0.5)], [2.**(-0.5), -2.**(-0.5)]])\n",
    "print U\n",
    "\n",
    "print s\n",
    "s_diag = np.array([[s[0], 0], [0, s[1]]])\n",
    "print s_diag\n",
    "\n",
    "X = U*s_diag\n",
    "print X\n",
    "\n",
    "F_trans = (X*Hcore)*X #orthogonalisierung\n",
    "print F_trans\n",
    "\n",
    "F = LA.eig(F_trans)[1] #[0] = Eigenwerte, [1] = Eigenvektoren\n",
    "print F\n",
    "\n",
    "C_trans = X*F\n",
    "print C_trans"
   ]
  },
  {
   "cell_type": "code",
   "execution_count": 101,
   "metadata": {
    "collapsed": false
   },
   "outputs": [
    {
     "name": "stdout",
     "output_type": "stream",
     "text": [
      "[[ 2.75333691  0.        ]\n",
      " [ 0.          0.11606408]]\n"
     ]
    }
   ],
   "source": [
    "#D-Matrix aufstellen\n",
    "\n",
    "#bfs = 1\n",
    "#occs = 1\n",
    "\n",
    "D = np.array([[0.0, 0.0], [0.0, 0.0]])\n",
    "\n",
    "for mu in range(0, 2): #bfs, ausgeschlossene Grenzen, daher bis 2\n",
    "    for nu in range(0, 2): #bfs\n",
    "        for i in range(0, 2): #bfs\n",
    "             D[mu, nu] += 2*C_trans[mu, i]*C_trans[nu, i]\n",
    "\n",
    "print D"
   ]
  },
  {
   "cell_type": "code",
   "execution_count": 102,
   "metadata": {
    "collapsed": false
   },
   "outputs": [
    {
     "ename": "SyntaxError",
     "evalue": "invalid syntax (<ipython-input-102-8caf8c391f4b>, line 9)",
     "output_type": "error",
     "traceback": [
      "\u001b[0;36m  File \u001b[0;32m\"<ipython-input-102-8caf8c391f4b>\"\u001b[0;36m, line \u001b[0;32m9\u001b[0m\n\u001b[0;31m    F[mu, nu] += D[lam, sig]*\u001b[0m\n\u001b[0m                             ^\u001b[0m\n\u001b[0;31mSyntaxError\u001b[0m\u001b[0;31m:\u001b[0m invalid syntax\n"
     ]
    }
   ],
   "source": [
    "#F-Matrix aufstellen\n",
    "\n",
    "F = Hcore\n",
    "\n",
    "for mu in range(0, 2):      #if schleife in for-schleife?\n",
    "    for nu in range(0, 2):\n",
    "        for lam in range(0, 2):\n",
    "            for sig in range(0, 2):\n",
    "                F[mu, nu] += D[lam, sig]*Inttwo[zahl]#Inttwo(mu,nu,lam,sig)-0.5Inttwo(mu,sig,lam,nu)"
   ]
  }
 ],
 "metadata": {
  "anaconda-cloud": {},
  "kernelspec": {
   "display_name": "Python 2",
   "language": "python",
   "name": "python2"
  },
  "language_info": {
   "codemirror_mode": {
    "name": "ipython",
    "version": 2
   },
   "file_extension": ".py",
   "mimetype": "text/x-python",
   "name": "python",
   "nbconvert_exporter": "python",
   "pygments_lexer": "ipython2",
   "version": "2.7.12"
  }
 },
 "nbformat": 4,
 "nbformat_minor": 1
}
